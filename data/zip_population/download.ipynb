{
 "cells": [
  {
   "cell_type": "code",
   "execution_count": 5,
   "metadata": {},
   "outputs": [],
   "source": [
    "import urllib.request\n",
    "from fpdf import FPDF\n",
    "import PyPDF2\n",
    "\n",
    "def download_file(input):\n",
    "    url = 'http://datasurfer.sandag.org/download/sandag_census_2010_zip_' + input + '.pdf'\n",
    "    response = urllib.request.urlopen(url)\n",
    "    file = open(input + '.pdf', 'wb')\n",
    "    file.write(response.read())\n",
    "    file.close()"
   ]
  },
  {
   "cell_type": "code",
   "execution_count": 7,
   "metadata": {},
   "outputs": [
    {
     "name": "stdout",
     "output_type": "stream",
     "text": [
      "92137\n",
      "92152\n"
     ]
    }
   ],
   "source": [
    "# Loads in necessary zip codes\n",
    "zips = ['92107', '92106', '92110', '92140', '92152', '92103', '92122', '92117', \n",
    "       '92110', '92111', '92113', '92102', '92101', '92102', '92136', '92113',\n",
    "       '92139', '92114', '92105', '92154',  '92104', '92116', '92115', '92105',\n",
    "       '92154', '92173', '92104', '92116', '92115', '92116', '92105', '92123', \n",
    "       '92111', '92124', '92108', '92120', '92119', '92145', '92126', '92131', \n",
    "       '92137', '92129', '92128', '92127', '92025', '92121', '92130', '92014',\n",
    "       '92091', '92127', '92109', '92037']\n",
    "\n",
    "# Removes duplicates\n",
    "zips = list(set(zips))\n",
    "\n",
    "for code in zips:\n",
    "    try:\n",
    "        download_file(code)\n",
    "    except urllib.request.HTTPError:\n",
    "        print(code)"
   ]
  },
  {
   "cell_type": "code",
   "execution_count": null,
   "metadata": {},
   "outputs": [],
   "source": []
  }
 ],
 "metadata": {
  "anaconda-cloud": {},
  "kernelspec": {
   "display_name": "Python [default]",
   "language": "python",
   "name": "python3"
  },
  "language_info": {
   "codemirror_mode": {
    "name": "ipython",
    "version": 3
   },
   "file_extension": ".py",
   "mimetype": "text/x-python",
   "name": "python",
   "nbconvert_exporter": "python",
   "pygments_lexer": "ipython3",
   "version": "3.5.4"
  }
 },
 "nbformat": 4,
 "nbformat_minor": 2
}
